{
 "cells": [
  {
   "cell_type": "code",
   "execution_count": 24,
   "metadata": {},
   "outputs": [],
   "source": [
    "import numpy as np\n",
    "import pandas as pd\n",
    "import matplotlib.pyplot as plt\n",
    "%matplotlib inline\n",
    "from sklearn.model_selection import train_test_split\n",
    "from sklearn.externals import joblib\n",
    "#from sklearn.metrics import classification_report, accuracy_score\n",
    "# import pickle\n",
    "\n",
    "# データ取得\n",
    "df_hiyoshi = pd.read_excel('suumo_hiyoshi01.xlsx', sep='\\t', encoding='utf-16')\n",
    "\n",
    "#立地を「路線+駅」と「徒歩〜分」に分割\n",
    "splitted1 = df_hiyoshi['立地1'].str.split('歩', expand=True)\n",
    "splitted1.columns = ['立地11', '立地12']\n",
    "\n",
    "#分割したカラムを結合\n",
    "df_hiyoshi = pd.concat([df_hiyoshi, splitted1], axis=1)\n",
    "\n",
    "#分割前のカラムは分析に使用しないので削除しておく\n",
    "df_hiyoshi.drop(['立地1','立地11'], axis=1, inplace=True)\n",
    "\n",
    "#エンコードをcp932に変更しておく（これをしないと、replaceできない）\n",
    "df_hiyoshi['賃料'].str.encode('cp932')\n",
    "df_hiyoshi['管理費'].str.encode('cp932')\n",
    "df_hiyoshi['築年数'].str.encode('cp932')\n",
    "df_hiyoshi['専有面積'].str.encode('cp932')\n",
    "df_hiyoshi['立地12'].str.encode('cp932')\n",
    "\n",
    "#数値として扱いたいので、不要な文字列を削除\n",
    "df_hiyoshi['賃料'] = df_hiyoshi['賃料'].str.replace(u'万円', u'')\n",
    "df_hiyoshi['管理費'] = df_hiyoshi['管理費'].str.replace(u'円', u'')\n",
    "df_hiyoshi['築年数'] = df_hiyoshi['築年数'].str.replace(u'新築', u'0') #新築は築年数0年とする\n",
    "df_hiyoshi['築年数'] = df_hiyoshi['築年数'].str.replace(u'築', u'')\n",
    "df_hiyoshi['築年数'] = df_hiyoshi['築年数'].str.replace(u'年', u'')\n",
    "df_hiyoshi['専有面積'] = df_hiyoshi['専有面積'].str.replace(u'm', u'')\n",
    "df_hiyoshi['立地12'] = df_hiyoshi['立地12'].str.replace(u'分', u'')\n",
    "\n",
    "#「-」を0に変換\n",
    "df_hiyoshi['管理費'] = df_hiyoshi['管理費'].replace('-',0)\n",
    "\n",
    "#文字列から数値に変換\n",
    "df_hiyoshi['賃料'] = pd.to_numeric(df_hiyoshi['賃料'])\n",
    "df_hiyoshi['管理費'] = pd.to_numeric(df_hiyoshi['管理費'])\n",
    "df_hiyoshi['築年数'] = pd.to_numeric(df_hiyoshi['築年数'])\n",
    "df_hiyoshi['専有面積'] = pd.to_numeric(df_hiyoshi['専有面積'])\n",
    "df_hiyoshi['立地12'] = pd.to_numeric(df_hiyoshi['立地12'])\n",
    "\n",
    "#単位を合わせるために、管理費以外を10000倍。\n",
    "df_hiyoshi['賃料'] = df_hiyoshi['賃料'] * 10000\n",
    "\n",
    "#管理費は実質的には賃料と同じく毎月支払うことになるため、「賃料+管理費」を家賃を見る指標とする\n",
    "df_hiyoshi['賃料+管理費'] = df_hiyoshi['賃料'] + df_hiyoshi['管理費']\n",
    "\n",
    "#階を数値化。地下はマイナスとして扱う\n",
    "df_hiyoshi['階'].str.encode('cp932')\n",
    "df_hiyoshi['階'] = df_hiyoshi['階'].str.replace(u'階', u'')\n",
    "df_hiyoshi['階'] = df_hiyoshi['階'].str.replace(u'B', u'-')\n",
    "df_hiyoshi['階'] = pd.to_numeric(df_hiyoshi['階'])\n",
    "\n",
    "#建物高さを数値化。地下は無視。\n",
    "df_hiyoshi['建物高さ'].str.encode('cp932')\n",
    "df_hiyoshi['建物高さ'] = df_hiyoshi['建物高さ'].str.replace(u'地下1地上', u'')\n",
    "df_hiyoshi['建物高さ'] = df_hiyoshi['建物高さ'].str.replace(u'地下2地上', u'')\n",
    "df_hiyoshi['建物高さ'] = df_hiyoshi['建物高さ'].str.replace(u'地下3地上', u'')\n",
    "df_hiyoshi['建物高さ'] = df_hiyoshi['建物高さ'].str.replace(u'地下4地上', u'')\n",
    "df_hiyoshi['建物高さ'] = df_hiyoshi['建物高さ'].str.replace(u'地下5地上', u'')\n",
    "df_hiyoshi['建物高さ'] = df_hiyoshi['建物高さ'].str.replace(u'地下6地上', u'')\n",
    "df_hiyoshi['建物高さ'] = df_hiyoshi['建物高さ'].str.replace(u'地下7地上', u'')\n",
    "df_hiyoshi['建物高さ'] = df_hiyoshi['建物高さ'].str.replace(u'地下8地上', u'')\n",
    "df_hiyoshi['建物高さ'] = df_hiyoshi['建物高さ'].str.replace(u'地下9地上', u'')\n",
    "df_hiyoshi['建物高さ'] = df_hiyoshi['建物高さ'].str.replace(u'平屋', u'1')\n",
    "df_hiyoshi['建物高さ'] = df_hiyoshi['建物高さ'].str.replace(u'階建', u'')\n",
    "df_hiyoshi['建物高さ'] = pd.to_numeric(df_hiyoshi['建物高さ'])\n",
    "\n",
    "#分割前のカラムは分析に使用しないので削除しておく\n",
    "df_hiyoshi.drop(['賃料','管理費'], axis=1, inplace=True)\n",
    "\n",
    "#並べ替え\n",
    "df_hiyoshi = df_hiyoshi[['築年数','建物高さ','階','専有面積','立地12','賃料+管理費']]"
   ]
  },
  {
   "cell_type": "code",
   "execution_count": 34,
   "metadata": {},
   "outputs": [
    {
     "name": "stderr",
     "output_type": "stream",
     "text": [
      "/Users/khino51/.pyenv/versions/anaconda3-4.1.1/envs/flask/lib/python3.6/site-packages/ipykernel_launcher.py:13: DataConversionWarning: A column-vector y was passed when a 1d array was expected. Please change the shape of y to (n_samples,), for example using ravel().\n",
      "  del sys.path[0]\n"
     ]
    },
    {
     "data": {
      "text/plain": [
       "RandomForestClassifier(bootstrap=True, ccp_alpha=0.0, class_weight=None,\n",
       "                       criterion='gini', max_depth=None, max_features='auto',\n",
       "                       max_leaf_nodes=None, max_samples=None,\n",
       "                       min_impurity_decrease=0.0, min_impurity_split=None,\n",
       "                       min_samples_leaf=1, min_samples_split=2,\n",
       "                       min_weight_fraction_leaf=0.0, n_estimators=10,\n",
       "                       n_jobs=None, oob_score=False, random_state=0, verbose=0,\n",
       "                       warm_start=False)"
      ]
     },
     "execution_count": 34,
     "metadata": {},
     "output_type": "execute_result"
    }
   ],
   "source": [
    "X = np.array(df_hiyoshi.loc[:, ['築年数','専有面積','立地12']])\n",
    "y = np.array(df_hiyoshi.loc[:, ['賃料+管理費']])\n",
    "\n",
    "from sklearn.model_selection import train_test_split\n",
    "X_train, X_test, y_train, y_test = train_test_split(X, y, test_size=0.3, random_state=0)\n",
    "\n",
    "# ランダムフォレストによる学習\n",
    "#ランダムフォレストのクラスを読み込み\n",
    "from sklearn.ensemble import RandomForestClassifier\n",
    "#ランダムフォレストのインスタンスを生成\n",
    "rfc_1 = RandomForestClassifier(random_state=0, n_estimators=10)\n",
    "#モデルを学習\n",
    "rfc_1.fit(X_train, y_train)"
   ]
  }
 ],
 "metadata": {
  "kernelspec": {
   "display_name": "Python 3",
   "language": "python",
   "name": "python3"
  },
  "language_info": {
   "codemirror_mode": {
    "name": "ipython",
    "version": 3
   },
   "file_extension": ".py",
   "mimetype": "text/x-python",
   "name": "python",
   "nbconvert_exporter": "python",
   "pygments_lexer": "ipython3",
   "version": "3.6.9"
  }
 },
 "nbformat": 4,
 "nbformat_minor": 2
}
